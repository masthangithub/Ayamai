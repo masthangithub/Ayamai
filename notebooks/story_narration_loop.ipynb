{
 "cells": [
  {
   "cell_type": "code",
   "execution_count": 27,
   "id": "369474ee",
   "metadata": {
    "vscode": {
     "languageId": "markdown"
    }
   },
   "outputs": [],
   "source": [
    "# Cell 1: Setup\n",
    "import sys\n",
    "import os\n",
    "sys.path.insert(0, r\"c:/ayamai/src\")\n",
    "from ud_transformer.understanding_encoder import UnderstandingEncoder\n",
    "from dream_loop.dream_engine import DreamEngine\n",
    "from memory_linker.memory_graph import MemoryGraph\n",
    "import random\n"
   ]
  },
  {
   "cell_type": "code",
   "execution_count": 28,
   "id": "7aba56c1",
   "metadata": {
    "vscode": {
     "languageId": "markdown"
    }
   },
   "outputs": [],
   "source": [
    "# Cell 2: Seed Understandings (U)\n",
    "raw_concepts = [\n",
    "    \"Ayurveda is experiential science\",\n",
    "    \"child avoids danger after one event\",\n",
    "    \"dream as generative loop\",\n",
    "    \"meaning emerges from disorder\",\n",
    "    \"narration is self-perpetuating story\"\n",
    "]\n"
   ]
  },
  {
   "cell_type": "code",
   "execution_count": 29,
   "id": "dc850d09",
   "metadata": {},
   "outputs": [
    {
     "name": "stdout",
     "output_type": "stream",
     "text": [
      "🧩 Encoded 'Ayurveda is experiential science' as data (D) with ID: a519207d-1e03-4812-8e24-501c7785f81b\n",
      "🧩 Encoded 'child avoids danger after one event' as data (D) with ID: c8c981bf-9e6e-4c49-8ee8-967217c66fd2\n",
      "🧩 Encoded 'dream as generative loop' as data (D) with ID: 0b88c827-61a2-40b6-b776-4a59513760e6\n",
      "🧩 Encoded 'meaning emerges from disorder' as data (D) with ID: f266fea5-17e4-4102-98d5-c1fc4291f6db\n",
      "🧩 Encoded 'narration is self-perpetuating story' as data (D) with ID: 9cda46a9-c17b-40f8-afc2-a0ac6abf28fd\n"
     ]
    }
   ],
   "source": [
    "# cell 2a: added by copilot\n",
    "encoder = UnderstandingEncoder()\n",
    "encoded_knowledge = [encoder.encode(concept) for concept in raw_concepts]\n"
   ]
  },
  {
   "cell_type": "code",
   "execution_count": 30,
   "id": "c0fc4e9c",
   "metadata": {
    "vscode": {
     "languageId": "markdown"
    }
   },
   "outputs": [
    {
     "name": "stdout",
     "output_type": "stream",
     "text": [
      "🧠 New memory node: Ayurveda is experiential science\n",
      "🧠 New memory node: Ayurveda is experiential science_related_to_dreams\n",
      "🔗 Linked 'Ayurveda is experiential science' → 'Ayurveda is experiential science_related_to_dreams' as [related_to]\n",
      "🧠 New memory node: child avoids danger after one event\n",
      "🧠 New memory node: child avoids danger after one event_related_to_dreams\n",
      "🔗 Linked 'child avoids danger after one event' → 'child avoids danger after one event_related_to_dreams' as [related_to]\n",
      "🧠 New memory node: dream as generative loop\n",
      "🧠 New memory node: dream as generative loop_related_to_dreams\n",
      "🔗 Linked 'dream as generative loop' → 'dream as generative loop_related_to_dreams' as [related_to]\n",
      "🧠 New memory node: meaning emerges from disorder\n",
      "🧠 New memory node: meaning emerges from disorder_related_to_dreams\n",
      "🔗 Linked 'meaning emerges from disorder' → 'meaning emerges from disorder_related_to_dreams' as [related_to]\n",
      "🧠 New memory node: narration is self-perpetuating story\n",
      "🧠 New memory node: narration is self-perpetuating story_related_to_dreams\n",
      "🔗 Linked 'narration is self-perpetuating story' → 'narration is self-perpetuating story_related_to_dreams' as [related_to]\n"
     ]
    }
   ],
   "source": [
    "# Cell 3: Store in MemoryGraph\n",
    "graph = MemoryGraph()\n",
    "for item in encoded_knowledge:\n",
    "    concept = item[\"concept\"]\n",
    "    parts = item[\"description\"]\n",
    "    graph.add_node(concept, parts[\"attributes\"], parts[\"behaviors\"])\n",
    "    for rel in parts[\"relations\"]:\n",
    "        graph.link(concept, rel)\n"
   ]
  },
  {
   "cell_type": "code",
   "execution_count": 31,
   "id": "c9a9ca73",
   "metadata": {
    "vscode": {
     "languageId": "markdown"
    }
   },
   "outputs": [],
   "source": [
    "# Cell 4: Create Dream Engine\n",
    "memory_fragments = list(graph.index.keys())\n",
    "dreamer = DreamEngine(memory_fragments, entropy=0.85)\n"
   ]
  },
  {
   "cell_type": "code",
   "execution_count": 32,
   "id": "bb5761f8",
   "metadata": {
    "vscode": {
     "languageId": "markdown"
    }
   },
   "outputs": [
    {
     "name": "stdout",
     "output_type": "stream",
     "text": [
      "🌙 Initiating dream sequence...\n",
      "\n",
      "💭 child avoids danger after one event_related_to_dreams through the lens of Ayurveda is experiential science\n",
      "💭 dream as generative loop through the lens of dream as generative loop\n",
      "💭 dream as generative loop through the lens of dream as generative loop\n",
      "💭 dream as generative loop_related_to_dreams connects to dream as generative loop\n",
      "💭 dream as generative loop_related_to_dreams connects to dream as generative loop\n",
      "💭 child avoids danger after one event through the lens of Ayurveda is experiential science\n",
      "💭 child avoids danger after one event through the lens of Ayurveda is experiential science\n",
      "💭 meaning emerges from disorder through the lens of narration is self-perpetuating story\n",
      "💭 meaning emerges from disorder through the lens of narration is self-perpetuating story\n",
      "\n",
      "🌄 Dream sequence ended. Insights stored.\n",
      "\n",
      "🌐 Linking memories from dream sequence:\n",
      "🔍 child → \n",
      "🔍 dream → \n",
      "🔍 dream → \n",
      "🔍 child → \n",
      "🔍 meaning → \n",
      "\n",
      "🌄 Dream sequence ended. Insights stored.\n",
      "\n",
      "🌐 Linking memories from dream sequence:\n",
      "🔍 child → \n",
      "🔍 dream → \n",
      "🔍 dream → \n",
      "🔍 child → \n",
      "🔍 meaning → \n"
     ]
    }
   ],
   "source": [
    "# Cell 5: Run Simulated Dream & Traverse Memory\n",
    "dreamer.run_dream_cycle(steps=5, delay=0.5)\n",
    "\n",
    "dream_log = dreamer.get_dream_log()\n",
    "print(\"\\n🌐 Linking memories from dream sequence:\")\n",
    "for d in dream_log:\n",
    "    base_concept = d.split()[0]\n",
    "    chain = graph.traverse_memory(base_concept, depth=2)\n",
    "    print(f\"🔍 {base_concept} →\", \" → \".join(chain))\n"
   ]
  },
  {
   "cell_type": "markdown",
   "id": "f269d4b1",
   "metadata": {},
   "source": []
  },
  {
   "cell_type": "markdown",
   "id": "78ad8b5f",
   "metadata": {},
   "source": [
    "This notebook walks through the U→D encoding, memory linking, dream narration, and symbolic story recall. As you refine AYAMAI, you could:\n",
    "- Use actual embeddings or symbolic parsing for the encoder.\n",
    "- Pipe this into a narrative text generator using `transformers`.\n",
    "- Visualize memory graphs using `networkx`.\n"
   ]
  }
 ],
 "metadata": {
  "kernelspec": {
   "display_name": "Python 3",
   "language": "python",
   "name": "python3"
  },
  "language_info": {
   "codemirror_mode": {
    "name": "ipython",
    "version": 3
   },
   "file_extension": ".py",
   "mimetype": "text/x-python",
   "name": "python",
   "nbconvert_exporter": "python",
   "pygments_lexer": "ipython3",
   "version": "3.13.5"
  }
 },
 "nbformat": 4,
 "nbformat_minor": 5
}
